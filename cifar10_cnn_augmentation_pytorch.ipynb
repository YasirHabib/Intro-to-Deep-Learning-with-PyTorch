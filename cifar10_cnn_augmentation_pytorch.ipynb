{
  "nbformat": 4,
  "nbformat_minor": 0,
  "metadata": {
    "colab": {
      "name": "cifar10_cnn_augmentation_pytorch.ipynb",
      "provenance": [],
      "collapsed_sections": []
    },
    "kernelspec": {
      "name": "python3",
      "display_name": "Python 3"
    },
    "accelerator": "GPU"
  },
  "cells": [
    {
      "cell_type": "code",
      "metadata": {
        "id": "IzBp8mrJ1n6X",
        "colab_type": "code",
        "colab": {}
      },
      "source": [
        "import os\n",
        "import numpy as np\n",
        "import matplotlib.pyplot as plt"
      ],
      "execution_count": 0,
      "outputs": []
    },
    {
      "cell_type": "code",
      "metadata": {
        "id": "-YkWLO-714Du",
        "colab_type": "code",
        "colab": {}
      },
      "source": [
        "import torch\n",
        "import torch.nn as nn\n",
        "import torch.nn.functional as F\n",
        "from torch.autograd import Variable\n",
        "from torch import optim\n",
        "from torchvision import datasets, transforms\n",
        "from torch.utils.data.sampler import SubsetRandomSampler"
      ],
      "execution_count": 0,
      "outputs": []
    },
    {
      "cell_type": "code",
      "metadata": {
        "id": "lnw1j7BNpuv-",
        "colab_type": "code",
        "colab": {}
      },
      "source": [
        "# how many samples per batch to load\n",
        "batch_size = 20\n",
        "# percentage of training set to use as validation\n",
        "valid_size = 0.2"
      ],
      "execution_count": 0,
      "outputs": []
    },
    {
      "cell_type": "code",
      "metadata": {
        "id": "AD7uDaRs2e8r",
        "colab_type": "code",
        "outputId": "363c656d-2346-4f02-ec29-bbdb18f06b42",
        "colab": {
          "base_uri": "https://localhost:8080/",
          "height": 85
        }
      },
      "source": [
        "!nvcc --version"
      ],
      "execution_count": 27,
      "outputs": [
        {
          "output_type": "stream",
          "text": [
            "nvcc: NVIDIA (R) Cuda compiler driver\n",
            "Copyright (c) 2005-2018 NVIDIA Corporation\n",
            "Built on Sat_Aug_25_21:08:01_CDT_2018\n",
            "Cuda compilation tools, release 10.0, V10.0.130\n"
          ],
          "name": "stdout"
        }
      ]
    },
    {
      "cell_type": "code",
      "metadata": {
        "id": "6deWNN_Rz90I",
        "colab_type": "code",
        "outputId": "d8f2501e-544a-42ca-8351-b1f404dc84a8",
        "colab": {
          "base_uri": "https://localhost:8080/",
          "height": 34
        }
      },
      "source": [
        "# check if CUDA is available\n",
        "train_on_gpu = torch.cuda.is_available()\n",
        "\n",
        "if not train_on_gpu:\n",
        "    print('CUDA is not available.  Training on CPU ...')\n",
        "else:\n",
        "    print('CUDA is available!  Training on GPU ...')"
      ],
      "execution_count": 28,
      "outputs": [
        {
          "output_type": "stream",
          "text": [
            "CUDA is available!  Training on GPU ...\n"
          ],
          "name": "stdout"
        }
      ]
    },
    {
      "cell_type": "markdown",
      "metadata": {
        "id": "YcEFb5ag7w-X",
        "colab_type": "text"
      },
      "source": [
        "**Data Augmentation**"
      ]
    },
    {
      "cell_type": "code",
      "metadata": {
        "id": "ccyM0VlU5jMQ",
        "colab_type": "code",
        "colab": {}
      },
      "source": [
        "transform = transforms.Compose([\n",
        "    transforms.RandomHorizontalFlip(), # randomly flip and rotate\n",
        "    transforms.RandomRotation(10),\n",
        "    transforms.ToTensor(),\n",
        "    transforms.Normalize((0.5, 0.5, 0.5), (0.5, 0.5, 0.5))\n",
        "    ])"
      ],
      "execution_count": 0,
      "outputs": []
    },
    {
      "cell_type": "markdown",
      "metadata": {
        "id": "5WQRJ0da76YO",
        "colab_type": "text"
      },
      "source": [
        "**Loading Images**"
      ]
    },
    {
      "cell_type": "code",
      "metadata": {
        "id": "9THvLQyB7Hxe",
        "colab_type": "code",
        "outputId": "aeaf49fe-8dd9-4392-b4ae-30c1a62054f4",
        "colab": {
          "base_uri": "https://localhost:8080/",
          "height": 51
        }
      },
      "source": [
        "# choose the training and test datasets\n",
        "train_data = datasets.CIFAR10('data', train=True,\n",
        "                              download=True, transform=transform)\n",
        "test_data = datasets.CIFAR10('data', train=False,\n",
        "                             download=True, transform=transform)"
      ],
      "execution_count": 30,
      "outputs": [
        {
          "output_type": "stream",
          "text": [
            "Files already downloaded and verified\n",
            "Files already downloaded and verified\n"
          ],
          "name": "stdout"
        }
      ]
    },
    {
      "cell_type": "markdown",
      "metadata": {
        "id": "9BIZjNQx_sCL",
        "colab_type": "text"
      },
      "source": [
        "**Checking Data**"
      ]
    },
    {
      "cell_type": "code",
      "metadata": {
        "id": "XQbYgQub-wAl",
        "colab_type": "code",
        "outputId": "ced1e13c-757c-4e08-879d-d21549e50a91",
        "colab": {
          "base_uri": "https://localhost:8080/",
          "height": 204
        }
      },
      "source": [
        "train_data"
      ],
      "execution_count": 31,
      "outputs": [
        {
          "output_type": "execute_result",
          "data": {
            "text/plain": [
              "Dataset CIFAR10\n",
              "    Number of datapoints: 50000\n",
              "    Root location: data\n",
              "    Split: Train\n",
              "    StandardTransform\n",
              "Transform: Compose(\n",
              "               RandomHorizontalFlip(p=0.5)\n",
              "               RandomRotation(degrees=(-10, 10), resample=False, expand=False)\n",
              "               ToTensor()\n",
              "               Normalize(mean=(0.5, 0.5, 0.5), std=(0.5, 0.5, 0.5))\n",
              "           )"
            ]
          },
          "metadata": {
            "tags": []
          },
          "execution_count": 31
        }
      ]
    },
    {
      "cell_type": "code",
      "metadata": {
        "id": "kMMcjxzM_E9g",
        "colab_type": "code",
        "outputId": "87f4b819-5b8c-4d38-e247-1120ce55a563",
        "colab": {
          "base_uri": "https://localhost:8080/",
          "height": 204
        }
      },
      "source": [
        "test_data"
      ],
      "execution_count": 32,
      "outputs": [
        {
          "output_type": "execute_result",
          "data": {
            "text/plain": [
              "Dataset CIFAR10\n",
              "    Number of datapoints: 10000\n",
              "    Root location: data\n",
              "    Split: Test\n",
              "    StandardTransform\n",
              "Transform: Compose(\n",
              "               RandomHorizontalFlip(p=0.5)\n",
              "               RandomRotation(degrees=(-10, 10), resample=False, expand=False)\n",
              "               ToTensor()\n",
              "               Normalize(mean=(0.5, 0.5, 0.5), std=(0.5, 0.5, 0.5))\n",
              "           )"
            ]
          },
          "metadata": {
            "tags": []
          },
          "execution_count": 32
        }
      ]
    },
    {
      "cell_type": "markdown",
      "metadata": {
        "id": "uUkx8tuquPkD",
        "colab_type": "text"
      },
      "source": [
        "**Training Indices**"
      ]
    },
    {
      "cell_type": "code",
      "metadata": {
        "id": "VXPsqLtY_O_W",
        "colab_type": "code",
        "colab": {}
      },
      "source": [
        "# obtain training indices that will be used for validation\n",
        "num_train = len(train_data)     # 50000\n",
        "indices = list(range(num_train))\n",
        "np.random.shuffle(indices)\n",
        "split = int(np.floor(valid_size * num_train))\n",
        "train_idx, valid_idx = indices[split:], indices[:split]"
      ],
      "execution_count": 0,
      "outputs": []
    },
    {
      "cell_type": "markdown",
      "metadata": {
        "id": "vwLH1i_kOJN5",
        "colab_type": "text"
      },
      "source": [
        "**Create sampler for training & validation**"
      ]
    },
    {
      "cell_type": "code",
      "metadata": {
        "id": "HkCv7HdutDNr",
        "colab_type": "code",
        "colab": {}
      },
      "source": [
        "# define samplers for obtaining training and validation batches\n",
        "train_sampler = SubsetRandomSampler(train_idx)\n",
        "# print(len(train_sampler))   40000                       \n",
        "valid_sampler = SubsetRandomSampler(valid_idx)\n",
        "# print(len(valid_sampler))   10000"
      ],
      "execution_count": 0,
      "outputs": []
    },
    {
      "cell_type": "markdown",
      "metadata": {
        "id": "B_SzqklGuosK",
        "colab_type": "text"
      },
      "source": [
        "**Data Loaders**"
      ]
    },
    {
      "cell_type": "code",
      "metadata": {
        "id": "BAR_Ap3Fuxy-",
        "colab_type": "code",
        "colab": {}
      },
      "source": [
        "trainloader = torch.utils.data.DataLoader(train_data, batch_size=batch_size, sampler=train_sampler)\n",
        "validloader = torch.utils.data.DataLoader(train_data, batch_size=batch_size, sampler=valid_sampler)\n",
        "testloader = torch.utils.data.DataLoader(test_data, batch_size=batch_size)"
      ],
      "execution_count": 0,
      "outputs": []
    },
    {
      "cell_type": "markdown",
      "metadata": {
        "id": "0iCe_2sHRZFN",
        "colab_type": "text"
      },
      "source": [
        "**Image Classes**"
      ]
    },
    {
      "cell_type": "code",
      "metadata": {
        "id": "aOSIPyLsReWp",
        "colab_type": "code",
        "colab": {}
      },
      "source": [
        "# specify the image classes\n",
        "classes = ['airplane', 'automobile', 'bird', 'cat', 'deer',\n",
        "           'dog', 'frog', 'horse', 'ship', 'truck']"
      ],
      "execution_count": 0,
      "outputs": []
    },
    {
      "cell_type": "markdown",
      "metadata": {
        "id": "9MXxjNwUxJu3",
        "colab_type": "text"
      },
      "source": [
        "**Visualize a Batch of Training Data**"
      ]
    },
    {
      "cell_type": "code",
      "metadata": {
        "id": "aSTBKekrxVWD",
        "colab_type": "code",
        "outputId": "3bfb2282-c28f-4696-9322-1d4c9adef1b9",
        "colab": {
          "base_uri": "https://localhost:8080/",
          "height": 256
        }
      },
      "source": [
        "# Run this to test your data loader\n",
        "sample_training_images, labels = next(iter(trainloader))\n",
        "# print(sample_training_images.shape)        torch.Size([20, 3, 32, 32])\n",
        "# print(labels.shape)                        torch.Size([20])\n",
        "# print(labels)                              tensor([5, 8, 0, 1, 9, 7, 3, 6, 0, 1, 1, 4, 2, 2, 6, 1, 2, 7, 2, 4])\n",
        "\n",
        "def plotImages(images_arr, labels):\n",
        "  # print(images_arr.shape)      torch.Size([5, 3, 32, 32])\n",
        "  fig, axes = plt.subplots(1, 5, figsize=(20,5))\n",
        "  axes = axes.flatten()\n",
        "  for img, ax, label in zip(images_arr, axes, labels):\n",
        "    img = img / 2 + 0.5 \n",
        "    img=img.permute(1,2,0)    # also we can use img=img.view(img.shape[1], img.shape[2], img.shape[0]). This is done to reshape from (C, H, W) to (H, W, C)\n",
        "    # print(img.shape)        # torch.Size([32, 32, 3])\n",
        "    ax.imshow(img)\n",
        "    ax.set_title(classes[label])\n",
        "  plt.show()\n",
        "    \n",
        "plotImages(sample_training_images[:5], labels[:5])        # Plot images 0-4"
      ],
      "execution_count": 37,
      "outputs": [
        {
          "output_type": "display_data",
          "data": {
            "image/png": "[encoded data removed]",
            "text/plain": [
              "<Figure size 1440x360 with 5 Axes>"
            ]
          },
          "metadata": {
            "tags": []
          }
        }
      ]
    },
    {
      "cell_type": "markdown",
      "metadata": {
        "id": "sVJ58pBLar5_",
        "colab_type": "text"
      },
      "source": [
        "**Define the Network**"
      ]
    },
    {
      "cell_type": "code",
      "metadata": {
        "id": "4oRIvXDXazS3",
        "colab_type": "code",
        "colab": {}
      },
      "source": [
        "class Model(nn.Module):\n",
        "  def __init__(self):\n",
        "    super(Model, self).__init__()\n",
        "    # define the layers\n",
        "    # Input channels = 3, output channels = 16, filter size = (3,3)\n",
        "    # convolutional layer (sees 3x32x32 image tensor)\n",
        "    self.conv1 = nn.Conv2d(3, 16, kernel_size=3, stride=1, padding=1)\n",
        "    # convolutional layer (sees 16x16x16 tensor)\n",
        "    self.conv2 = nn.Conv2d(16, 32, kernel_size=3, stride=1, padding=1)\n",
        "    # convolutional layer (sees 32x8x8 tensor)\n",
        "    self.conv3 = nn.Conv2d(32, 64, kernel_size=3, stride=1, padding=1)\n",
        "\n",
        "    # max pooling layer\n",
        "    self.pool = nn.MaxPool2d(kernel_size=2, stride=2)\n",
        "\n",
        "    # linear layer (64*4*4 -> 500)\n",
        "    self.linear1 = nn.Linear(64*4*4, 500)\n",
        "    self.linear2 = nn.Linear(500, 10)\n",
        "\n",
        "    # dropout layer (p=0.25)\n",
        "    self.dropout = nn.Dropout(0.25)\n",
        "\n",
        "  def forward(self, x):\n",
        "    # print(x.shape)             torch.Size([20, 3, 32, 32])\n",
        "    x = self.pool(F.relu(self.conv1(x)))\n",
        "    # print(x.shape)             torch.Size([20, 16, 16, 16])\n",
        "    x = self.pool(F.relu(self.conv2(x)))\n",
        "    # print(x.shape)             torch.Size([20, 32, 8, 8])\n",
        "    x = self.pool(F.relu(self.conv3(x)))\n",
        "    # print(x.shape)             torch.Size([20, 64, 4, 4])\n",
        "\n",
        "    # flatten image input\n",
        "    x = x.view(-1, 64*4*4) ## reshaping\n",
        "\n",
        "    # add dropout layer\n",
        "    x = self.dropout(x)\n",
        "\n",
        "    # add 1st hidden layer, with relu activation function\n",
        "    x = F.relu(self.linear1(x))\n",
        "\n",
        "    # add dropout layer\n",
        "    x = self.dropout(x)\n",
        "\n",
        "    # add 2nd hidden layer, with relu activation function\n",
        "    x = self.linear2(x)\n",
        "\n",
        "    return x\n",
        "    # Note: no final softmax!\n",
        "    # just like Tensorflow, it's included in cross-entropy function"
      ],
      "execution_count": 0,
      "outputs": []
    },
    {
      "cell_type": "code",
      "metadata": {
        "id": "UCJCu85-hh79",
        "colab_type": "code",
        "outputId": "1e225491-9e26-486b-edb3-489dacaa907f",
        "colab": {
          "base_uri": "https://localhost:8080/",
          "height": 170
        }
      },
      "source": [
        "model = Model()\n",
        "print(model)\n",
        "criterion = nn.CrossEntropyLoss()\n",
        "optimizer = optim.Adam(model.parameters())"
      ],
      "execution_count": 39,
      "outputs": [
        {
          "output_type": "stream",
          "text": [
            "Model(\n",
            "  (conv1): Conv2d(3, 16, kernel_size=(3, 3), stride=(1, 1), padding=(1, 1))\n",
            "  (conv2): Conv2d(16, 32, kernel_size=(3, 3), stride=(1, 1), padding=(1, 1))\n",
            "  (conv3): Conv2d(32, 64, kernel_size=(3, 3), stride=(1, 1), padding=(1, 1))\n",
            "  (pool): MaxPool2d(kernel_size=2, stride=2, padding=0, dilation=1, ceil_mode=False)\n",
            "  (linear1): Linear(in_features=1024, out_features=500, bias=True)\n",
            "  (linear2): Linear(in_features=500, out_features=10, bias=True)\n",
            "  (dropout): Dropout(p=0.25, inplace=False)\n",
            ")\n"
          ],
          "name": "stdout"
        }
      ]
    },
    {
      "cell_type": "markdown",
      "metadata": {
        "id": "WwxBoq_V_gzE",
        "colab_type": "text"
      },
      "source": [
        "**Functions**"
      ]
    },
    {
      "cell_type": "code",
      "metadata": {
        "id": "yDEwPhjOHFXN",
        "colab_type": "code",
        "colab": {}
      },
      "source": [
        "def train(model, loss, optimizer, inputs, labels):\n",
        "  # set the model to training mode\n",
        "  # because dropout has 2 different modes!\n",
        "  # we only perform dropout in train mode & not test mode\n",
        "  model.train()\n",
        "\n",
        "  inputs = Variable(inputs, requires_grad=False)\n",
        "  labels = Variable(labels, requires_grad=False)\n",
        "\n",
        "  optimizer.zero_grad()\n",
        "\n",
        "  # get output from the model, given the inputs\n",
        "  logps = model.forward(inputs)\n",
        "\n",
        "  # get loss for the predicted output\n",
        "  cost = loss.forward(logps, labels)\n",
        "\n",
        "  # get gradients w.r.t to parameters\n",
        "  cost.backward()\n",
        "\n",
        "  # update parameters\n",
        "  optimizer.step()\n",
        "\n",
        "  return cost.item()"
      ],
      "execution_count": 0,
      "outputs": []
    },
    {
      "cell_type": "code",
      "metadata": {
        "id": "pYSFU8_aHHSR",
        "colab_type": "code",
        "colab": {}
      },
      "source": [
        "def valid(model, loss, inputs, labels):\n",
        "  model.eval()\n",
        "\n",
        "  inputs = Variable(inputs, requires_grad=False)\n",
        "  labels = Variable(labels, requires_grad=False)\n",
        "\n",
        "  logps = model.forward(inputs)\n",
        "  cost = loss.forward(logps, labels)\n",
        "\n",
        "  return cost.item()"
      ],
      "execution_count": 0,
      "outputs": []
    },
    {
      "cell_type": "code",
      "metadata": {
        "id": "iLxA78TLQxmK",
        "colab_type": "code",
        "colab": {}
      },
      "source": [
        "def test(model, loss, inputs, labels):\n",
        "  model.eval()\n",
        "\n",
        "  inputs = Variable(inputs, requires_grad=False)\n",
        "  labels = Variable(labels, requires_grad=False)\n",
        "\n",
        "  logps = model.forward(inputs)\n",
        "  cost = loss.forward(logps, labels)\n",
        "\n",
        "  return cost.item()"
      ],
      "execution_count": 0,
      "outputs": []
    },
    {
      "cell_type": "code",
      "metadata": {
        "id": "1K3Vh3aRHKON",
        "colab_type": "code",
        "colab": {}
      },
      "source": [
        "def predict(model, inputs):\n",
        "  model.eval()\n",
        "      \n",
        "  inputs = Variable(inputs, requires_grad=False)\n",
        "      \n",
        "  logps = model.forward(inputs)\n",
        "  return logps.data.numpy().argmax(axis=1)"
      ],
      "execution_count": 0,
      "outputs": []
    },
    {
      "cell_type": "markdown",
      "metadata": {
        "id": "BOeuuxVr_TN2",
        "colab_type": "text"
      },
      "source": [
        "**Train the Network**"
      ]
    },
    {
      "cell_type": "code",
      "metadata": {
        "id": "i4Iyal_DHNva",
        "colab_type": "code",
        "outputId": "da4f6794-18b5-47e6-ebe1-f696a4ccbf5d",
        "colab": {
          "base_uri": "https://localhost:8080/",
          "height": 595
        }
      },
      "source": [
        "training_epochs=20\n",
        "valid_loss_min = np.Inf # track change in validation loss\n",
        "\n",
        "train_costs = []\n",
        "validation_costs = []\n",
        "train_accuracies = []\n",
        "validation_accuracies = []\n",
        "\n",
        "for epoch in range(training_epochs):\n",
        "\n",
        "  # keep track of training and validation loss\n",
        "  train_loss = 0.0\n",
        "  valid_loss = 0.0\n",
        "  train_acc = 0.0\n",
        "  valid_acc = 0.0\n",
        "\n",
        "  for batch_idx, (inputs, labels) in enumerate(trainloader):\n",
        "    # print(idx, data.shape, target.shape)    # idx goes from 0 to (40,000 / batch_size)\n",
        "    train_c=train(model, criterion, optimizer, inputs, labels)\n",
        "    train_loss+=train_c*inputs.size(0)\n",
        "\n",
        "    p_train = predict(model, inputs)\n",
        "    acc_train = np.mean(p_train == labels.numpy())\n",
        "    train_acc+=acc_train*inputs.size(0)\n",
        "\n",
        "  for batch_idx, (inputs_v, labels_v) in enumerate(validloader):\n",
        "    valid_c=valid(model, criterion, inputs_v, labels_v)\n",
        "    valid_loss+=valid_c*inputs_v.size(0)\n",
        "\n",
        "    p_valid = predict(model, inputs_v)\n",
        "    acc_valid = np.mean(p_valid == labels_v.numpy())\n",
        "    valid_acc+=acc_valid*inputs_v.size(0)\n",
        "\n",
        "  # calculate average losses\n",
        "  train_loss = train_loss/len(train_sampler)\n",
        "  valid_loss = valid_loss/len(valid_sampler)\n",
        "\n",
        "  # append average losses\n",
        "  train_costs.append(train_loss)\n",
        "  validation_costs.append(valid_loss)\n",
        "\n",
        "  # calculate average accuracies\n",
        "  train_acc = train_acc/len(train_sampler)\n",
        "  valid_acc = valid_acc/len(valid_sampler)\n",
        "\n",
        "  # append average accuracies\n",
        "  train_accuracies.append(train_acc)\n",
        "  validation_accuracies.append(valid_acc)\n",
        "\n",
        "  print('Epoch: {} \\tTraining Loss: {:.6f} \\tValidation Loss: {:.6f} \\tTraining Accuracy: {:.6f} \\tValidation Accuracy: {:.6f}'.format(\n",
        "      epoch+1, train_loss, valid_loss, train_acc, valid_acc))\n",
        "  \n",
        "  # save model if validation loss has decreased\n",
        "  if valid_loss <= valid_loss_min:\n",
        "    print('Validation loss decreased ({:.6f} --> {:.6f}).  Saving model ...'.format(valid_loss_min, valid_loss))\n",
        "    torch.save(model.state_dict(), 'model_augmented.pt')\n",
        "    valid_loss_min = valid_loss"
      ],
      "execution_count": 44,
      "outputs": [
        {
          "output_type": "stream",
          "text": [
            "Epoch: 1 \tTraining Loss: 1.513420 \tValidation Loss: 1.204397 \tTraining Accuracy: 0.480025 \tValidation Accuracy: 0.564500\n",
            "Validation loss decreased (inf --> 1.204397).  Saving model ...\n",
            "Epoch: 2 \tTraining Loss: 1.204664 \tValidation Loss: 1.046589 \tTraining Accuracy: 0.610475 \tValidation Accuracy: 0.623100\n",
            "Validation loss decreased (1.204397 --> 1.046589).  Saving model ...\n",
            "Epoch: 3 \tTraining Loss: 1.077927 \tValidation Loss: 0.975318 \tTraining Accuracy: 0.661350 \tValidation Accuracy: 0.655100\n",
            "Validation loss decreased (1.046589 --> 0.975318).  Saving model ...\n",
            "Epoch: 4 \tTraining Loss: 1.010623 \tValidation Loss: 0.937777 \tTraining Accuracy: 0.689900 \tValidation Accuracy: 0.669300\n",
            "Validation loss decreased (0.975318 --> 0.937777).  Saving model ...\n",
            "Epoch: 5 \tTraining Loss: 0.952593 \tValidation Loss: 0.898321 \tTraining Accuracy: 0.710675 \tValidation Accuracy: 0.679900\n",
            "Validation loss decreased (0.937777 --> 0.898321).  Saving model ...\n",
            "Epoch: 6 \tTraining Loss: 0.917845 \tValidation Loss: 0.845610 \tTraining Accuracy: 0.728575 \tValidation Accuracy: 0.703000\n",
            "Validation loss decreased (0.898321 --> 0.845610).  Saving model ...\n",
            "Epoch: 7 \tTraining Loss: 0.891924 \tValidation Loss: 0.831135 \tTraining Accuracy: 0.738575 \tValidation Accuracy: 0.711700\n",
            "Validation loss decreased (0.845610 --> 0.831135).  Saving model ...\n",
            "Epoch: 8 \tTraining Loss: 0.862373 \tValidation Loss: 0.804813 \tTraining Accuracy: 0.750925 \tValidation Accuracy: 0.724200\n",
            "Validation loss decreased (0.831135 --> 0.804813).  Saving model ...\n",
            "Epoch: 9 \tTraining Loss: 0.839413 \tValidation Loss: 0.788756 \tTraining Accuracy: 0.760225 \tValidation Accuracy: 0.724000\n",
            "Validation loss decreased (0.804813 --> 0.788756).  Saving model ...\n",
            "Epoch: 10 \tTraining Loss: 0.822544 \tValidation Loss: 0.800356 \tTraining Accuracy: 0.766000 \tValidation Accuracy: 0.719800\n",
            "Epoch: 11 \tTraining Loss: 0.805001 \tValidation Loss: 0.787446 \tTraining Accuracy: 0.777450 \tValidation Accuracy: 0.724600\n",
            "Validation loss decreased (0.788756 --> 0.787446).  Saving model ...\n",
            "Epoch: 12 \tTraining Loss: 0.793745 \tValidation Loss: 0.800145 \tTraining Accuracy: 0.781675 \tValidation Accuracy: 0.725100\n",
            "Epoch: 13 \tTraining Loss: 0.780223 \tValidation Loss: 0.753314 \tTraining Accuracy: 0.787150 \tValidation Accuracy: 0.743500\n",
            "Validation loss decreased (0.787446 --> 0.753314).  Saving model ...\n",
            "Epoch: 14 \tTraining Loss: 0.761797 \tValidation Loss: 0.736244 \tTraining Accuracy: 0.793250 \tValidation Accuracy: 0.741900\n",
            "Validation loss decreased (0.753314 --> 0.736244).  Saving model ...\n",
            "Epoch: 15 \tTraining Loss: 0.748683 \tValidation Loss: 0.756824 \tTraining Accuracy: 0.798425 \tValidation Accuracy: 0.735400\n",
            "Epoch: 16 \tTraining Loss: 0.746081 \tValidation Loss: 0.742638 \tTraining Accuracy: 0.798900 \tValidation Accuracy: 0.743700\n",
            "Epoch: 17 \tTraining Loss: 0.735509 \tValidation Loss: 0.727039 \tTraining Accuracy: 0.804650 \tValidation Accuracy: 0.746600\n",
            "Validation loss decreased (0.736244 --> 0.727039).  Saving model ...\n",
            "Epoch: 18 \tTraining Loss: 0.726708 \tValidation Loss: 0.733841 \tTraining Accuracy: 0.809000 \tValidation Accuracy: 0.751600\n",
            "Epoch: 19 \tTraining Loss: 0.715884 \tValidation Loss: 0.741374 \tTraining Accuracy: 0.813400 \tValidation Accuracy: 0.742800\n",
            "Epoch: 20 \tTraining Loss: 0.715121 \tValidation Loss: 0.718921 \tTraining Accuracy: 0.812700 \tValidation Accuracy: 0.753000\n",
            "Validation loss decreased (0.727039 --> 0.718921).  Saving model ...\n"
          ],
          "name": "stdout"
        }
      ]
    },
    {
      "cell_type": "code",
      "metadata": {
        "id": "xi_Rw0sDHTKE",
        "colab_type": "code",
        "outputId": "4319301a-083e-4162-a5a3-7d7b9db24e8a",
        "colab": {
          "base_uri": "https://localhost:8080/",
          "height": 513
        }
      },
      "source": [
        "plt.plot(train_costs, label='Training Cost')\n",
        "plt.plot(validation_costs, label='Validation Cost')\n",
        "plt.legend()\n",
        "plt.show()\n",
        "\n",
        "plt.plot(train_accuracies, label='Training accuracy')\n",
        "plt.plot(validation_accuracies, label='Validation accuracy')\n",
        "plt.legend()\n",
        "plt.show()"
      ],
      "execution_count": 45,
      "outputs": [
        {
          "output_type": "display_data",
          "data": {
            "image/png": "[encoded data removed]",
            "text/plain": [
              "<Figure size 432x288 with 1 Axes>"
            ]
          },
          "metadata": {
            "tags": []
          }
        },
        {
          "output_type": "display_data",
          "data": {
            "image/png": "[encoded data removed]",
            "text/plain": [
              "<Figure size 432x288 with 1 Axes>"
            ]
          },
          "metadata": {
            "tags": []
          }
        }
      ]
    },
    {
      "cell_type": "markdown",
      "metadata": {
        "id": "wZFzMfnIrfzj",
        "colab_type": "text"
      },
      "source": [
        "**Load the Model with the Lowest Validation Loss**"
      ]
    },
    {
      "cell_type": "code",
      "metadata": {
        "id": "CwE5HHybr_mO",
        "colab_type": "code",
        "colab": {
          "base_uri": "https://localhost:8080/",
          "height": 34
        },
        "outputId": "87636d99-1a7c-4d01-e9bd-4d7a6720c883"
      },
      "source": [
        "model.load_state_dict(torch.load('model_augmented.pt'))"
      ],
      "execution_count": 46,
      "outputs": [
        {
          "output_type": "execute_result",
          "data": {
            "text/plain": [
              "<All keys matched successfully>"
            ]
          },
          "metadata": {
            "tags": []
          },
          "execution_count": 46
        }
      ]
    },
    {
      "cell_type": "markdown",
      "metadata": {
        "id": "hMLjkDM5sI9B",
        "colab_type": "text"
      },
      "source": [
        "**Test the Trained Network**"
      ]
    },
    {
      "cell_type": "code",
      "metadata": {
        "id": "E4Gg4RN1XyLj",
        "colab_type": "code",
        "colab": {
          "base_uri": "https://localhost:8080/",
          "height": 34
        },
        "outputId": "8d7ba866-2e34-435c-a912-655cffd47d6d"
      },
      "source": [
        "test_loss = 0.0\n",
        "test_acc = 0.0\n",
        "\n",
        "for batch_idx, (inputs_t, labels_t) in enumerate(testloader):\n",
        "  test_c=test(model, criterion, inputs_t, labels_t)\n",
        "  test_loss+=test_c*inputs_t.size(0)\n",
        "\n",
        "  p_test = predict(model, inputs_t)\n",
        "  acc_test = np.mean(p_test == labels_t.numpy())\n",
        "  test_acc+=acc_test*inputs_t.size(0)\n",
        "\n",
        "# calculate average losses\n",
        "test_loss = test_loss/len(testloader.dataset)     # print(len(testloader.dataset)) = 10000\n",
        "\n",
        "# calculate average accuracies\n",
        "test_acc = test_acc/len(testloader.dataset)\n",
        "\n",
        "print('Testing Loss: {:.6f} \\tTesting Accuracy: {:.6f}'.format(test_loss, test_acc))"
      ],
      "execution_count": 51,
      "outputs": [
        {
          "output_type": "stream",
          "text": [
            "Testing Loss: 0.735103 \tTesting Accuracy: 0.751100\n"
          ],
          "name": "stdout"
        }
      ]
    }
  ]
}