{
  "nbformat": 4,
  "nbformat_minor": 0,
  "metadata": {
    "colab": {
      "name": "cifar10_cnn_augmentation_pytorch.ipynb",
      "provenance": [],
      "collapsed_sections": [],
      "include_colab_link": true
    },
    "kernelspec": {
      "name": "python3",
      "display_name": "Python 3"
    },
    "accelerator": "GPU"
  },
  "cells": [
    {
      "cell_type": "markdown",
      "metadata": {
        "id": "view-in-github",
        "colab_type": "text"
      },
      "source": [
        "<a href=\"https://colab.research.google.com/github/YasirHabib/Intro-to-Deep-Learning-with-PyTorch/blob/master/cifar10_cnn_augmentation_pytorch.ipynb\" target=\"_parent\"><img src=\"https://colab.research.google.com/assets/colab-badge.svg\" alt=\"Open In Colab\"/></a>"
      ]
    },
    {
      "cell_type": "code",
      "metadata": {
        "id": "IzBp8mrJ1n6X",
        "colab_type": "code",
        "colab": {}
      },
      "source": [
        "import os\n",
        "import numpy as np\n",
        "import matplotlib.pyplot as plt"
      ],
      "execution_count": 0,
      "outputs": []
    },
    {
      "cell_type": "code",
      "metadata": {
        "id": "-YkWLO-714Du",
        "colab_type": "code",
        "colab": {}
      },
      "source": [
        "import torch\n",
        "import torch.nn as nn\n",
        "import torch.nn.functional as F\n",
        "from torch.autograd import Variable\n",
        "from torch import optim\n",
        "from torchvision import datasets, transforms\n",
        "from torch.utils.data.sampler import SubsetRandomSampler"
      ],
      "execution_count": 0,
      "outputs": []
    },
    {
      "cell_type": "code",
      "metadata": {
        "id": "lnw1j7BNpuv-",
        "colab_type": "code",
        "colab": {}
      },
      "source": [
        "# how many samples per batch to load\n",
        "batch_size = 20\n",
        "# percentage of training set to use as validation\n",
        "valid_size = 0.2"
      ],
      "execution_count": 0,
      "outputs": []
    },
    {
      "cell_type": "code",
      "metadata": {
        "id": "AD7uDaRs2e8r",
        "colab_type": "code",
        "outputId": "4a9060b6-c522-448b-b25b-5e5029398d68",
        "colab": {
          "base_uri": "https://localhost:8080/",
          "height": 85
        }
      },
      "source": [
        "!nvcc --version"
      ],
      "execution_count": 133,
      "outputs": [
        {
          "output_type": "stream",
          "text": [
            "nvcc: NVIDIA (R) Cuda compiler driver\n",
            "Copyright (c) 2005-2018 NVIDIA Corporation\n",
            "Built on Sat_Aug_25_21:08:01_CDT_2018\n",
            "Cuda compilation tools, release 10.0, V10.0.130\n"
          ],
          "name": "stdout"
        }
      ]
    },
    {
      "cell_type": "code",
      "metadata": {
        "id": "6deWNN_Rz90I",
        "colab_type": "code",
        "outputId": "c5bd7460-5149-4034-c78a-bb73db1bc264",
        "colab": {
          "base_uri": "https://localhost:8080/",
          "height": 34
        }
      },
      "source": [
        "# check if CUDA is available\n",
        "train_on_gpu = torch.cuda.is_available()\n",
        "\n",
        "if not train_on_gpu:\n",
        "    print('CUDA is not available.  Training on CPU ...')\n",
        "else:\n",
        "    print('CUDA is available!  Training on GPU ...')"
      ],
      "execution_count": 134,
      "outputs": [
        {
          "output_type": "stream",
          "text": [
            "CUDA is available!  Training on GPU ...\n"
          ],
          "name": "stdout"
        }
      ]
    },
    {
      "cell_type": "markdown",
      "metadata": {
        "id": "YcEFb5ag7w-X",
        "colab_type": "text"
      },
      "source": [
        "**Data Augmentation**"
      ]
    },
    {
      "cell_type": "code",
      "metadata": {
        "id": "ccyM0VlU5jMQ",
        "colab_type": "code",
        "colab": {}
      },
      "source": [
        "transform = transforms.Compose([\n",
        "    transforms.RandomHorizontalFlip(), # randomly flip and rotate\n",
        "    transforms.RandomRotation(10),\n",
        "    transforms.ToTensor(),\n",
        "    transforms.Normalize((0.5, 0.5, 0.5), (0.5, 0.5, 0.5))\n",
        "    ])"
      ],
      "execution_count": 0,
      "outputs": []
    },
    {
      "cell_type": "markdown",
      "metadata": {
        "id": "5WQRJ0da76YO",
        "colab_type": "text"
      },
      "source": [
        "**Loading Images**"
      ]
    },
    {
      "cell_type": "code",
      "metadata": {
        "id": "9THvLQyB7Hxe",
        "colab_type": "code",
        "outputId": "c513ab10-09d8-4983-9ecd-091f256af4c1",
        "colab": {
          "base_uri": "https://localhost:8080/",
          "height": 51
        }
      },
      "source": [
        "# choose the training and test datasets\n",
        "train_data = datasets.CIFAR10('data', train=True,\n",
        "                              download=True, transform=transform)\n",
        "test_data = datasets.CIFAR10('data', train=False,\n",
        "                             download=True, transform=transform)"
      ],
      "execution_count": 136,
      "outputs": [
        {
          "output_type": "stream",
          "text": [
            "Files already downloaded and verified\n",
            "Files already downloaded and verified\n"
          ],
          "name": "stdout"
        }
      ]
    },
    {
      "cell_type": "markdown",
      "metadata": {
        "id": "9BIZjNQx_sCL",
        "colab_type": "text"
      },
      "source": [
        "**Checking Data**"
      ]
    },
    {
      "cell_type": "code",
      "metadata": {
        "id": "XQbYgQub-wAl",
        "colab_type": "code",
        "outputId": "d6cb4d61-42d5-422d-94f7-81e0502e89d8",
        "colab": {
          "base_uri": "https://localhost:8080/",
          "height": 204
        }
      },
      "source": [
        "train_data"
      ],
      "execution_count": 137,
      "outputs": [
        {
          "output_type": "execute_result",
          "data": {
            "text/plain": [
              "Dataset CIFAR10\n",
              "    Number of datapoints: 50000\n",
              "    Root location: data\n",
              "    Split: Train\n",
              "    StandardTransform\n",
              "Transform: Compose(\n",
              "               RandomHorizontalFlip(p=0.5)\n",
              "               RandomRotation(degrees=(-10, 10), resample=False, expand=False)\n",
              "               ToTensor()\n",
              "               Normalize(mean=(0.5, 0.5, 0.5), std=(0.5, 0.5, 0.5))\n",
              "           )"
            ]
          },
          "metadata": {
            "tags": []
          },
          "execution_count": 137
        }
      ]
    },
    {
      "cell_type": "code",
      "metadata": {
        "id": "kMMcjxzM_E9g",
        "colab_type": "code",
        "outputId": "b6572132-34be-4c77-9665-fe545989e8bb",
        "colab": {
          "base_uri": "https://localhost:8080/",
          "height": 204
        }
      },
      "source": [
        "test_data"
      ],
      "execution_count": 138,
      "outputs": [
        {
          "output_type": "execute_result",
          "data": {
            "text/plain": [
              "Dataset CIFAR10\n",
              "    Number of datapoints: 10000\n",
              "    Root location: data\n",
              "    Split: Test\n",
              "    StandardTransform\n",
              "Transform: Compose(\n",
              "               RandomHorizontalFlip(p=0.5)\n",
              "               RandomRotation(degrees=(-10, 10), resample=False, expand=False)\n",
              "               ToTensor()\n",
              "               Normalize(mean=(0.5, 0.5, 0.5), std=(0.5, 0.5, 0.5))\n",
              "           )"
            ]
          },
          "metadata": {
            "tags": []
          },
          "execution_count": 138
        }
      ]
    },
    {
      "cell_type": "markdown",
      "metadata": {
        "id": "uUkx8tuquPkD",
        "colab_type": "text"
      },
      "source": [
        "**Training Indices**"
      ]
    },
    {
      "cell_type": "code",
      "metadata": {
        "id": "VXPsqLtY_O_W",
        "colab_type": "code",
        "colab": {}
      },
      "source": [
        "# obtain training indices that will be used for validation\n",
        "num_train = len(train_data)     # 50000\n",
        "indices = list(range(num_train))\n",
        "np.random.shuffle(indices)\n",
        "split = int(np.floor(valid_size * num_train))\n",
        "train_idx, valid_idx = indices[split:], indices[:split]"
      ],
      "execution_count": 0,
      "outputs": []
    },
    {
      "cell_type": "markdown",
      "metadata": {
        "id": "vwLH1i_kOJN5",
        "colab_type": "text"
      },
      "source": [
        "**Create sampler for training & validation**"
      ]
    },
    {
      "cell_type": "code",
      "metadata": {
        "id": "HkCv7HdutDNr",
        "colab_type": "code",
        "colab": {}
      },
      "source": [
        "# define samplers for obtaining training and validation batches\n",
        "train_sampler = SubsetRandomSampler(train_idx)\n",
        "# print(len(train_sampler))   40000                       \n",
        "valid_sampler = SubsetRandomSampler(valid_idx)\n",
        "# print(len(valid_sampler))   10000"
      ],
      "execution_count": 0,
      "outputs": []
    },
    {
      "cell_type": "markdown",
      "metadata": {
        "id": "B_SzqklGuosK",
        "colab_type": "text"
      },
      "source": [
        "**Data Loaders**"
      ]
    },
    {
      "cell_type": "code",
      "metadata": {
        "id": "BAR_Ap3Fuxy-",
        "colab_type": "code",
        "colab": {}
      },
      "source": [
        "trainloader = torch.utils.data.DataLoader(train_data, batch_size=batch_size, sampler=train_sampler)\n",
        "validloader = torch.utils.data.DataLoader(train_data, batch_size=batch_size, sampler=valid_sampler)\n",
        "testloader = torch.utils.data.DataLoader(test_data, batch_size=batch_size)"
      ],
      "execution_count": 0,
      "outputs": []
    },
    {
      "cell_type": "markdown",
      "metadata": {
        "id": "0iCe_2sHRZFN",
        "colab_type": "text"
      },
      "source": [
        "**Image Classes**"
      ]
    },
    {
      "cell_type": "code",
      "metadata": {
        "id": "aOSIPyLsReWp",
        "colab_type": "code",
        "colab": {}
      },
      "source": [
        "# specify the image classes\n",
        "classes = ['airplane', 'automobile', 'bird', 'cat', 'deer',\n",
        "           'dog', 'frog', 'horse', 'ship', 'truck']"
      ],
      "execution_count": 0,
      "outputs": []
    },
    {
      "cell_type": "markdown",
      "metadata": {
        "id": "9MXxjNwUxJu3",
        "colab_type": "text"
      },
      "source": [
        "**Visualize a Batch of Training Data**"
      ]
    },
    {
      "cell_type": "code",
      "metadata": {
        "id": "aSTBKekrxVWD",
        "colab_type": "code",
        "outputId": "161bf82e-9a0d-456f-abb3-cfc5f3c2e02f",
        "colab": {
          "base_uri": "https://localhost:8080/",
          "height": 256
        }
      },
      "source": [
        "# Run this to test your data loader\n",
        "sample_training_images, labels = next(iter(trainloader))\n",
        "# print(sample_training_images.shape)        torch.Size([20, 3, 32, 32])\n",
        "# print(labels.shape)                        torch.Size([20])\n",
        "# print(labels)                              tensor([5, 8, 0, 1, 9, 7, 3, 6, 0, 1, 1, 4, 2, 2, 6, 1, 2, 7, 2, 4])\n",
        "\n",
        "def plotImages(images_arr, labels):\n",
        "  # print(images_arr.shape)      torch.Size([5, 3, 32, 32])\n",
        "  fig, axes = plt.subplots(1, 5, figsize=(20,5))\n",
        "  axes = axes.flatten()\n",
        "  for img, ax, label in zip(images_arr, axes, labels):\n",
        "    img = img / 2 + 0.5 \n",
        "    img=img.permute(1,2,0)    # also we can use img=img.view(img.shape[1], img.shape[2], img.shape[0]). This is done to reshape from (C, H, W) to (H, W, C)\n",
        "    # print(img.shape)        # torch.Size([32, 32, 3])\n",
        "    ax.imshow(img)\n",
        "    ax.set_title(classes[label])\n",
        "  plt.show()\n",
        "    \n",
        "plotImages(sample_training_images[:5], labels[:5])        # Plot images 0-4"
      ],
      "execution_count": 143,
      "outputs": [
        {
          "output_type": "display_data",
          "data": {
            "image/png": "[encoded data removed]",
            "text/plain": [
              "<Figure size 1440x360 with 5 Axes>"
            ]
          },
          "metadata": {
            "tags": []
          }
        }
      ]
    },
    {
      "cell_type": "markdown",
      "metadata": {
        "id": "sVJ58pBLar5_",
        "colab_type": "text"
      },
      "source": [
        "**Define the Network**"
      ]
    },
    {
      "cell_type": "code",
      "metadata": {
        "id": "4oRIvXDXazS3",
        "colab_type": "code",
        "colab": {}
      },
      "source": [
        "class Model(nn.Module):\n",
        "  def __init__(self):\n",
        "    super(Model, self).__init__()\n",
        "    # define the layers\n",
        "    # Input channels = 3, output channels = 16, filter size = (3,3)\n",
        "    # convolutional layer (sees 3x32x32 image tensor)\n",
        "    self.conv1 = nn.Conv2d(3, 16, kernel_size=3, stride=1, padding=1)\n",
        "    # convolutional layer (sees 16x16x16 tensor)\n",
        "    self.conv2 = nn.Conv2d(16, 32, kernel_size=3, stride=1, padding=1)\n",
        "    # convolutional layer (sees 32x8x8 tensor)\n",
        "    self.conv3 = nn.Conv2d(32, 64, kernel_size=3, stride=1, padding=1)\n",
        "\n",
        "    # max pooling layer\n",
        "    self.pool = nn.MaxPool2d(kernel_size=2, stride=2)\n",
        "\n",
        "    # linear layer (64*4*4 -> 500)\n",
        "    self.linear1 = nn.Linear(64*4*4, 500)\n",
        "    self.linear2 = nn.Linear(500, 10)\n",
        "\n",
        "    # dropout layer (p=0.25)\n",
        "    self.dropout = nn.Dropout(0.25)\n",
        "\n",
        "  def forward(self, x):\n",
        "    # print(x.shape)             torch.Size([20, 3, 32, 32])\n",
        "    x = self.pool(F.relu(self.conv1(x)))\n",
        "    # print(x.shape)             torch.Size([20, 16, 16, 16])\n",
        "    x = self.pool(F.relu(self.conv2(x)))\n",
        "    # print(x.shape)             torch.Size([20, 32, 8, 8])\n",
        "    x = self.pool(F.relu(self.conv3(x)))\n",
        "    # print(x.shape)             torch.Size([20, 64, 4, 4])\n",
        "\n",
        "    # flatten image input\n",
        "    x = x.view(-1, 64*4*4) ## reshaping\n",
        "\n",
        "    # add dropout layer\n",
        "    x = self.dropout(x)\n",
        "\n",
        "    # add 1st hidden layer, with relu activation function\n",
        "    x = F.relu(self.linear1(x))\n",
        "\n",
        "    # add dropout layer\n",
        "    x = self.dropout(x)\n",
        "\n",
        "    # add 2nd hidden layer, with relu activation function\n",
        "    x = self.linear2(x)\n",
        "\n",
        "    return x\n",
        "    # Note: no final softmax!\n",
        "    # just like Tensorflow, it's included in cross-entropy function"
      ],
      "execution_count": 0,
      "outputs": []
    },
    {
      "cell_type": "code",
      "metadata": {
        "id": "UCJCu85-hh79",
        "colab_type": "code",
        "outputId": "5433adaf-cd7a-4e57-94fc-09b282473b78",
        "colab": {
          "base_uri": "https://localhost:8080/",
          "height": 170
        }
      },
      "source": [
        "model = Model()\n",
        "print(model)\n",
        "criterion = nn.CrossEntropyLoss()\n",
        "optimizer = optim.Adam(model.parameters())"
      ],
      "execution_count": 145,
      "outputs": [
        {
          "output_type": "stream",
          "text": [
            "Model(\n",
            "  (conv1): Conv2d(3, 16, kernel_size=(3, 3), stride=(1, 1), padding=(1, 1))\n",
            "  (conv2): Conv2d(16, 32, kernel_size=(3, 3), stride=(1, 1), padding=(1, 1))\n",
            "  (conv3): Conv2d(32, 64, kernel_size=(3, 3), stride=(1, 1), padding=(1, 1))\n",
            "  (pool): MaxPool2d(kernel_size=2, stride=2, padding=0, dilation=1, ceil_mode=False)\n",
            "  (linear1): Linear(in_features=1024, out_features=500, bias=True)\n",
            "  (linear2): Linear(in_features=500, out_features=10, bias=True)\n",
            "  (dropout): Dropout(p=0.25, inplace=False)\n",
            ")\n"
          ],
          "name": "stdout"
        }
      ]
    },
    {
      "cell_type": "markdown",
      "metadata": {
        "id": "WwxBoq_V_gzE",
        "colab_type": "text"
      },
      "source": [
        "**Functions**"
      ]
    },
    {
      "cell_type": "code",
      "metadata": {
        "id": "yDEwPhjOHFXN",
        "colab_type": "code",
        "colab": {}
      },
      "source": [
        "def train(model, loss, optimizer, inputs, labels):\n",
        "  # set the model to training mode\n",
        "  # because dropout has 2 different modes!\n",
        "  # we only perform dropout in train mode & not test mode\n",
        "  model.train()\n",
        "\n",
        "  inputs = Variable(inputs, requires_grad=False)\n",
        "  labels = Variable(labels, requires_grad=False)\n",
        "\n",
        "  optimizer.zero_grad()\n",
        "\n",
        "  # get output from the model, given the inputs\n",
        "  logps = model.forward(inputs)\n",
        "\n",
        "  # get loss for the predicted output\n",
        "  cost = loss.forward(logps, labels)\n",
        "\n",
        "  # get gradients w.r.t to parameters\n",
        "  cost.backward()\n",
        "\n",
        "  # update parameters\n",
        "  optimizer.step()\n",
        "\n",
        "  return cost.item()"
      ],
      "execution_count": 0,
      "outputs": []
    },
    {
      "cell_type": "code",
      "metadata": {
        "id": "pYSFU8_aHHSR",
        "colab_type": "code",
        "colab": {}
      },
      "source": [
        "def valid(model, loss, inputs, labels):\n",
        "  model.eval()\n",
        "\n",
        "  inputs = Variable(inputs, requires_grad=False)\n",
        "  labels = Variable(labels, requires_grad=False)\n",
        "\n",
        "  logps = model.forward(inputs)\n",
        "  cost = loss.forward(logps, labels)\n",
        "\n",
        "  return cost.item()"
      ],
      "execution_count": 0,
      "outputs": []
    },
    {
      "cell_type": "code",
      "metadata": {
        "id": "iLxA78TLQxmK",
        "colab_type": "code",
        "colab": {}
      },
      "source": [
        "def test(model, loss, inputs, labels):\n",
        "  model.eval()\n",
        "\n",
        "  inputs = Variable(inputs, requires_grad=False)\n",
        "  labels = Variable(labels, requires_grad=False)\n",
        "\n",
        "  logps = model.forward(inputs)\n",
        "  cost = loss.forward(logps, labels)\n",
        "\n",
        "  return cost.item()"
      ],
      "execution_count": 0,
      "outputs": []
    },
    {
      "cell_type": "code",
      "metadata": {
        "id": "1K3Vh3aRHKON",
        "colab_type": "code",
        "colab": {}
      },
      "source": [
        "def predict(model, inputs):\n",
        "  model.eval()\n",
        "      \n",
        "  inputs = Variable(inputs, requires_grad=False)\n",
        "      \n",
        "  logps = model.forward(inputs)\n",
        "  return logps.data.numpy().argmax(axis=1)"
      ],
      "execution_count": 0,
      "outputs": []
    },
    {
      "cell_type": "markdown",
      "metadata": {
        "id": "BOeuuxVr_TN2",
        "colab_type": "text"
      },
      "source": [
        "**Train the Network**"
      ]
    },
    {
      "cell_type": "code",
      "metadata": {
        "id": "i4Iyal_DHNva",
        "colab_type": "code",
        "colab": {
          "base_uri": "https://localhost:8080/",
          "height": 102
        },
        "outputId": "d775a0a1-ece6-4b26-afcd-fb163ff36257"
      },
      "source": [
        "training_epochs=5\n",
        "valid_loss_min = np.Inf # track change in validation loss\n",
        "\n",
        "train_costs = []\n",
        "validation_costs = []\n",
        "train_accuracies = []\n",
        "validation_accuracies = []\n",
        "\n",
        "for epoch in range(training_epochs):\n",
        "\n",
        "  # keep track of training and validation loss\n",
        "  train_loss = 0.0\n",
        "  valid_loss = 0.0\n",
        "  train_acc = 0.0\n",
        "  valid_acc = 0.0\n",
        "\n",
        "  for batch_idx, (inputs, labels) in enumerate(trainloader):\n",
        "    # print(idx, data.shape, target.shape)    # idx goes from 0 to (40,000 / batch_size)\n",
        "    train_c=train(model, criterion, optimizer, inputs, labels)\n",
        "    train_loss+=train_c*inputs.size(0)\n",
        "\n",
        "    p_train = predict(model, inputs)\n",
        "    acc_train = np.mean(p_train == labels.numpy())\n",
        "    train_acc+=acc_train*inputs.size(0)\n",
        "\n",
        "  for batch_idx, (inputs_v, labels_v) in enumerate(validloader):\n",
        "    valid_c=valid(model, criterion, inputs_v, labels_v)\n",
        "    valid_loss+=valid_c*inputs_v.size(0)\n",
        "\n",
        "    p_valid = predict(model, inputs_v)\n",
        "    acc_valid = np.mean(p_valid == labels_v.numpy())\n",
        "    valid_acc+=acc_valid*inputs_v.size(0)\n",
        "\n",
        "  # calculate average losses\n",
        "  train_loss = train_loss/len(train_sampler)\n",
        "  valid_loss = valid_loss/len(valid_sampler)\n",
        "\n",
        "  train_costs.append(train_loss)\n",
        "  validation_costs.append(valid_loss)\n",
        "\n",
        "  # calculate average accuracies\n",
        "  train_acc = train_acc/len(train_sampler)\n",
        "  valid_acc = valid_acc/len(valid_sampler)\n",
        "\n",
        "  train_accuracies.append(train_acc)\n",
        "  validation_accuracies.append(valid_acc)\n",
        "\n",
        "  print('Epoch: {} \\tTraining Loss: {:.6f} \\tValidation Loss: {:.6f} \\tTraining Accuracy: {:.6f} \\tValidation Accuracy: {:.6f}'.format(\n",
        "      epoch+1, train_loss, valid_loss, train_acc, valid_acc))"
      ],
      "execution_count": 150,
      "outputs": [
        {
          "output_type": "stream",
          "text": [
            "Epoch: 1 \tTraining Loss: 1.473602 \tValidation Loss: 1.194439 \tTraining Accuracy: 0.493350 \tValidation Accuracy: 0.559600\n",
            "Epoch: 2 \tTraining Loss: 1.182896 \tValidation Loss: 1.036906 \tTraining Accuracy: 0.615925 \tValidation Accuracy: 0.630600\n",
            "Epoch: 3 \tTraining Loss: 1.070692 \tValidation Loss: 1.002919 \tTraining Accuracy: 0.664875 \tValidation Accuracy: 0.649100\n",
            "Epoch: 4 \tTraining Loss: 0.988634 \tValidation Loss: 0.907479 \tTraining Accuracy: 0.692575 \tValidation Accuracy: 0.691100\n",
            "Epoch: 5 \tTraining Loss: 0.933948 \tValidation Loss: 0.879195 \tTraining Accuracy: 0.721125 \tValidation Accuracy: 0.693900\n"
          ],
          "name": "stdout"
        }
      ]
    },
    {
      "cell_type": "code",
      "metadata": {
        "id": "xi_Rw0sDHTKE",
        "colab_type": "code",
        "colab": {
          "base_uri": "https://localhost:8080/",
          "height": 516
        },
        "outputId": "de20b9bf-7701-4b23-abf1-0e283c1c3d39"
      },
      "source": [
        "plt.plot(train_costs, label='Training Cost')\n",
        "plt.plot(validation_costs, label='Validation Cost')\n",
        "plt.legend()\n",
        "plt.show()\n",
        "\n",
        "plt.plot(train_accuracies, label='Training accuracy')\n",
        "plt.plot(validation_accuracies, label='Validation accuracy')\n",
        "plt.legend()\n",
        "plt.show()"
      ],
      "execution_count": 151,
      "outputs": [
        {
          "output_type": "display_data",
          "data": {
            "image/png": "[encoded data removed]",
            "text/plain": [
              "<Figure size 432x288 with 1 Axes>"
            ]
          },
          "metadata": {
            "tags": []
          }
        },
        {
          "output_type": "display_data",
          "data": {
            "image/png": "[encoded data removed]",
            "text/plain": [
              "<Figure size 432x288 with 1 Axes>"
            ]
          },
          "metadata": {
            "tags": []
          }
        }
      ]
    }
  ]
}